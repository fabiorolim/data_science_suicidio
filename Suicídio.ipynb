{
 "cells": [
  {
   "cell_type": "code",
   "execution_count": 2,
   "metadata": {},
   "outputs": [],
   "source": [
    "import pandas as pd\n",
    "import numpy as np\n",
    "import matplotlib.pyplot as plt\n",
    "import seaborn as sns"
   ]
  },
  {
   "cell_type": "code",
   "execution_count": 3,
   "metadata": {},
   "outputs": [],
   "source": [
    "df = pd.read_csv(\"https://raw.githubusercontent.com/fabiorolim/data_science_suicidio/master/master.csv\")"
   ]
  },
  {
   "cell_type": "code",
   "execution_count": 4,
   "metadata": {},
   "outputs": [
    {
     "data": {
      "text/plain": [
       "(27820, 12)"
      ]
     },
     "execution_count": 4,
     "metadata": {},
     "output_type": "execute_result"
    }
   ],
   "source": [
    "df.shape"
   ]
  },
  {
   "cell_type": "code",
   "execution_count": 5,
   "metadata": {},
   "outputs": [],
   "source": [
    "df_brasil = df[df.country == 'Brazil'].copy()"
   ]
  },
  {
   "cell_type": "code",
   "execution_count": 6,
   "metadata": {},
   "outputs": [
    {
     "data": {
      "text/html": [
       "<div>\n",
       "<style scoped>\n",
       "    .dataframe tbody tr th:only-of-type {\n",
       "        vertical-align: middle;\n",
       "    }\n",
       "\n",
       "    .dataframe tbody tr th {\n",
       "        vertical-align: top;\n",
       "    }\n",
       "\n",
       "    .dataframe thead th {\n",
       "        text-align: right;\n",
       "    }\n",
       "</style>\n",
       "<table border=\"1\" class=\"dataframe\">\n",
       "  <thead>\n",
       "    <tr style=\"text-align: right;\">\n",
       "      <th></th>\n",
       "      <th>country</th>\n",
       "      <th>year</th>\n",
       "      <th>sex</th>\n",
       "      <th>age</th>\n",
       "      <th>suicides_no</th>\n",
       "      <th>population</th>\n",
       "      <th>suicides/100k pop</th>\n",
       "      <th>country-year</th>\n",
       "      <th>HDI for year</th>\n",
       "      <th>gdp_for_year ($)</th>\n",
       "      <th>gdp_per_capita ($)</th>\n",
       "      <th>generation</th>\n",
       "    </tr>\n",
       "  </thead>\n",
       "  <tbody>\n",
       "    <tr>\n",
       "      <th>4172</th>\n",
       "      <td>Brazil</td>\n",
       "      <td>1985</td>\n",
       "      <td>male</td>\n",
       "      <td>75+ years</td>\n",
       "      <td>129</td>\n",
       "      <td>840300</td>\n",
       "      <td>15.35</td>\n",
       "      <td>Brazil1985</td>\n",
       "      <td>0.576</td>\n",
       "      <td>222,942,790,435</td>\n",
       "      <td>1898</td>\n",
       "      <td>G.I. Generation</td>\n",
       "    </tr>\n",
       "    <tr>\n",
       "      <th>4173</th>\n",
       "      <td>Brazil</td>\n",
       "      <td>1985</td>\n",
       "      <td>male</td>\n",
       "      <td>55-74 years</td>\n",
       "      <td>535</td>\n",
       "      <td>5364900</td>\n",
       "      <td>9.97</td>\n",
       "      <td>Brazil1985</td>\n",
       "      <td>0.576</td>\n",
       "      <td>222,942,790,435</td>\n",
       "      <td>1898</td>\n",
       "      <td>G.I. Generation</td>\n",
       "    </tr>\n",
       "    <tr>\n",
       "      <th>4174</th>\n",
       "      <td>Brazil</td>\n",
       "      <td>1985</td>\n",
       "      <td>male</td>\n",
       "      <td>35-54 years</td>\n",
       "      <td>1011</td>\n",
       "      <td>11986300</td>\n",
       "      <td>8.43</td>\n",
       "      <td>Brazil1985</td>\n",
       "      <td>0.576</td>\n",
       "      <td>222,942,790,435</td>\n",
       "      <td>1898</td>\n",
       "      <td>Silent</td>\n",
       "    </tr>\n",
       "    <tr>\n",
       "      <th>4175</th>\n",
       "      <td>Brazil</td>\n",
       "      <td>1985</td>\n",
       "      <td>male</td>\n",
       "      <td>25-34 years</td>\n",
       "      <td>791</td>\n",
       "      <td>10762900</td>\n",
       "      <td>7.35</td>\n",
       "      <td>Brazil1985</td>\n",
       "      <td>0.576</td>\n",
       "      <td>222,942,790,435</td>\n",
       "      <td>1898</td>\n",
       "      <td>Boomers</td>\n",
       "    </tr>\n",
       "    <tr>\n",
       "      <th>4176</th>\n",
       "      <td>Brazil</td>\n",
       "      <td>1985</td>\n",
       "      <td>male</td>\n",
       "      <td>15-24 years</td>\n",
       "      <td>661</td>\n",
       "      <td>13834000</td>\n",
       "      <td>4.78</td>\n",
       "      <td>Brazil1985</td>\n",
       "      <td>0.576</td>\n",
       "      <td>222,942,790,435</td>\n",
       "      <td>1898</td>\n",
       "      <td>Generation X</td>\n",
       "    </tr>\n",
       "  </tbody>\n",
       "</table>\n",
       "</div>"
      ],
      "text/plain": [
       "     country  year   sex          age  suicides_no  population  \\\n",
       "4172  Brazil  1985  male    75+ years          129      840300   \n",
       "4173  Brazil  1985  male  55-74 years          535     5364900   \n",
       "4174  Brazil  1985  male  35-54 years         1011    11986300   \n",
       "4175  Brazil  1985  male  25-34 years          791    10762900   \n",
       "4176  Brazil  1985  male  15-24 years          661    13834000   \n",
       "\n",
       "      suicides/100k pop country-year  HDI for year  gdp_for_year ($)   \\\n",
       "4172              15.35   Brazil1985         0.576    222,942,790,435   \n",
       "4173               9.97   Brazil1985         0.576    222,942,790,435   \n",
       "4174               8.43   Brazil1985         0.576    222,942,790,435   \n",
       "4175               7.35   Brazil1985         0.576    222,942,790,435   \n",
       "4176               4.78   Brazil1985         0.576    222,942,790,435   \n",
       "\n",
       "      gdp_per_capita ($)       generation  \n",
       "4172                1898  G.I. Generation  \n",
       "4173                1898  G.I. Generation  \n",
       "4174                1898           Silent  \n",
       "4175                1898          Boomers  \n",
       "4176                1898     Generation X  "
      ]
     },
     "execution_count": 6,
     "metadata": {},
     "output_type": "execute_result"
    }
   ],
   "source": [
    "df_brasil.head()"
   ]
  },
  {
   "cell_type": "code",
   "execution_count": 7,
   "metadata": {},
   "outputs": [
    {
     "name": "stdout",
     "output_type": "stream",
     "text": [
      "valores nulos no Brasil\n"
     ]
    },
    {
     "data": {
      "text/plain": [
       "country                 0\n",
       "year                    0\n",
       "sex                     0\n",
       "age                     0\n",
       "suicides_no             0\n",
       "population              0\n",
       "suicides/100k pop       0\n",
       "country-year            0\n",
       "HDI for year          252\n",
       " gdp_for_year ($)       0\n",
       "gdp_per_capita ($)      0\n",
       "generation              0\n",
       "dtype: int64"
      ]
     },
     "metadata": {},
     "output_type": "display_data"
    }
   ],
   "source": [
    "# Dados nulos no dataframe do Brasil\n",
    "print('valores nulos no Brasil')\n",
    "display(df_brasil.isnull().sum())"
   ]
  },
  {
   "cell_type": "code",
   "execution_count": 8,
   "metadata": {},
   "outputs": [
    {
     "name": "stdout",
     "output_type": "stream",
     "text": [
      "Valores nulos no mundo\n"
     ]
    },
    {
     "data": {
      "text/plain": [
       "country                   0\n",
       "year                      0\n",
       "sex                       0\n",
       "age                       0\n",
       "suicides_no               0\n",
       "population                0\n",
       "suicides/100k pop         0\n",
       "country-year              0\n",
       "HDI for year          19456\n",
       " gdp_for_year ($)         0\n",
       "gdp_per_capita ($)        0\n",
       "generation                0\n",
       "dtype: int64"
      ]
     },
     "metadata": {},
     "output_type": "display_data"
    }
   ],
   "source": [
    "# Dados nulos no dataframe mundial\n",
    "print(\"Valores nulos no mundo\")\n",
    "display(df.isnull().sum())"
   ]
  },
  {
   "cell_type": "code",
   "execution_count": 9,
   "metadata": {},
   "outputs": [
    {
     "data": {
      "text/plain": [
       "101"
      ]
     },
     "execution_count": 9,
     "metadata": {},
     "output_type": "execute_result"
    }
   ],
   "source": [
    "# Dados de 101 países\n",
    "len(df.country.unique())"
   ]
  },
  {
   "cell_type": "code",
   "execution_count": 10,
   "metadata": {},
   "outputs": [
    {
     "data": {
      "image/png": "[encoded data removed]",
      "text/plain": [
       "<Figure size 432x288 with 1 Axes>"
      ]
     },
     "metadata": {
      "needs_background": "light"
     },
     "output_type": "display_data"
    }
   ],
   "source": [
    "# média mundial e do Brasil\n",
    "anos = df_brasil.year.unique()\n",
    "media_brasil = df_brasil.groupby('year')['suicides/100k pop'].mean()\n",
    "media_mundial = df.groupby('year')['suicides/100k pop'].mean()\n",
    "\n",
    "# Eliminando o ano de 2016 devido ausencia desses dados no Brasil\n",
    "media_mundial.drop(2016, inplace=True)\n",
    "\n",
    "# Plotar\n",
    "ax = sns.lineplot(x=anos, y=media_brasil, label='Brasil')\n",
    "ax = sns.lineplot(x=anos, y=media_mundial, label='Mundo')\n",
    "plt.legend(title='Taxa de suicidio Brasil e no mundo')\n",
    "plt.show()"
   ]
  },
  {
   "cell_type": "code",
   "execution_count": 11,
   "metadata": {},
   "outputs": [
    {
     "data": {
      "text/html": [
       "<div>\n",
       "<style scoped>\n",
       "    .dataframe tbody tr th:only-of-type {\n",
       "        vertical-align: middle;\n",
       "    }\n",
       "\n",
       "    .dataframe tbody tr th {\n",
       "        vertical-align: top;\n",
       "    }\n",
       "\n",
       "    .dataframe thead th {\n",
       "        text-align: right;\n",
       "    }\n",
       "</style>\n",
       "<table border=\"1\" class=\"dataframe\">\n",
       "  <thead>\n",
       "    <tr style=\"text-align: right;\">\n",
       "      <th>age</th>\n",
       "      <th>5-14 years</th>\n",
       "      <th>15-24 years</th>\n",
       "      <th>25-34 years</th>\n",
       "      <th>35-54 years</th>\n",
       "      <th>55-74 years</th>\n",
       "      <th>75+ years</th>\n",
       "    </tr>\n",
       "    <tr>\n",
       "      <th>year</th>\n",
       "      <th></th>\n",
       "      <th></th>\n",
       "      <th></th>\n",
       "      <th></th>\n",
       "      <th></th>\n",
       "      <th></th>\n",
       "    </tr>\n",
       "  </thead>\n",
       "  <tbody>\n",
       "    <tr>\n",
       "      <th>1985</th>\n",
       "      <td>38.0</td>\n",
       "      <td>470.5</td>\n",
       "      <td>530.0</td>\n",
       "      <td>653.5</td>\n",
       "      <td>341.5</td>\n",
       "      <td>80.5</td>\n",
       "    </tr>\n",
       "    <tr>\n",
       "      <th>1986</th>\n",
       "      <td>31.0</td>\n",
       "      <td>508.0</td>\n",
       "      <td>505.5</td>\n",
       "      <td>651.0</td>\n",
       "      <td>372.0</td>\n",
       "      <td>68.0</td>\n",
       "    </tr>\n",
       "    <tr>\n",
       "      <th>1987</th>\n",
       "      <td>33.5</td>\n",
       "      <td>502.0</td>\n",
       "      <td>565.5</td>\n",
       "      <td>724.5</td>\n",
       "      <td>422.0</td>\n",
       "      <td>88.5</td>\n",
       "    </tr>\n",
       "    <tr>\n",
       "      <th>1988</th>\n",
       "      <td>30.0</td>\n",
       "      <td>472.0</td>\n",
       "      <td>557.5</td>\n",
       "      <td>724.0</td>\n",
       "      <td>356.0</td>\n",
       "      <td>93.5</td>\n",
       "    </tr>\n",
       "    <tr>\n",
       "      <th>1989</th>\n",
       "      <td>31.5</td>\n",
       "      <td>491.5</td>\n",
       "      <td>569.0</td>\n",
       "      <td>692.5</td>\n",
       "      <td>354.5</td>\n",
       "      <td>92.5</td>\n",
       "    </tr>\n",
       "  </tbody>\n",
       "</table>\n",
       "</div>"
      ],
      "text/plain": [
       "age   5-14 years  15-24 years  25-34 years  35-54 years  55-74 years  \\\n",
       "year                                                                   \n",
       "1985        38.0        470.5        530.0        653.5        341.5   \n",
       "1986        31.0        508.0        505.5        651.0        372.0   \n",
       "1987        33.5        502.0        565.5        724.5        422.0   \n",
       "1988        30.0        472.0        557.5        724.0        356.0   \n",
       "1989        31.5        491.5        569.0        692.5        354.5   \n",
       "\n",
       "age   75+ years  \n",
       "year             \n",
       "1985       80.5  \n",
       "1986       68.0  \n",
       "1987       88.5  \n",
       "1988       93.5  \n",
       "1989       92.5  "
      ]
     },
     "execution_count": 11,
     "metadata": {},
     "output_type": "execute_result"
    }
   ],
   "source": [
    "# Cria tabela com número de casos de suicídio no Brasil por ano e faixa etária\n",
    "tabela = pd.pivot_table(df_brasil, values='suicides_no', index=['year'], columns=['age'])\n",
    "\n",
    "# Ordenar por faixa etária\n",
    "ordem = ['5-14 years', '15-24 years', '25-34 years', '35-54 years', '55-74 years', '75+ years']\n",
    "tabela = tabela.reindex(ordem, axis=1)\n",
    "\n",
    "tabela.head()"
   ]
  },
  {
   "cell_type": "code",
   "execution_count": 12,
   "metadata": {},
   "outputs": [
    {
     "data": {
      "text/plain": [
       "<matplotlib.legend.Legend at 0x11ff31048>"
      ]
     },
     "execution_count": 12,
     "metadata": {},
     "output_type": "execute_result"
    },
    {
     "data": {
      "image/png": "[encoded data removed]",
      "text/plain": [
       "<Figure size 1152x576 with 1 Axes>"
      ]
     },
     "metadata": {
      "needs_background": "light"
     },
     "output_type": "display_data"
    }
   ],
   "source": [
    "# Plot número de suicidios por faixa etária e ano no Brasil\n",
    "tabela.plot.bar(stacked=True, figsize=(16,8))\n",
    "plt.legend(title='Faixa etária por ano')"
   ]
  },
  {
   "cell_type": "code",
   "execution_count": 13,
   "metadata": {},
   "outputs": [
    {
     "data": {
      "text/plain": [
       "([<matplotlib.patches.Wedge at 0x1202a91d0>,\n",
       "  <matplotlib.patches.Wedge at 0x1202a9b38>],\n",
       " [Text(0.8556707493718532, 0.6912507277894262, 'mulheres'),\n",
       "  Text(-0.8556707817316342, -0.6912506877325866, 'homens')],\n",
       " [Text(0.4667294996573744, 0.37704585152150516, '21.6%'),\n",
       "  Text(-0.4667295173081641, -0.3770458296723199, '78.4%')])"
      ]
     },
     "execution_count": 13,
     "metadata": {},
     "output_type": "execute_result"
    },
    {
     "data": {
      "image/png": "[encoded data removed]",
      "text/plain": [
       "<Figure size 432x288 with 1 Axes>"
      ]
     },
     "metadata": {},
     "output_type": "display_data"
    }
   ],
   "source": [
    "# Calcular o percentual de casos entre os sexos no Brasil\n",
    "\n",
    "homens_mulheres_brasil = df_brasil.groupby('sex').suicides_no.sum() / df_brasil.groupby('sex').suicides_no.sum().sum()\n",
    "\n",
    "# Plot\n",
    "\n",
    "plt.pie(homens_mulheres_brasil, labels=['mulheres', 'homens'], autopct='%1.1f%%', shadow=True)"
   ]
  },
  {
   "cell_type": "code",
   "execution_count": 14,
   "metadata": {},
   "outputs": [
    {
     "data": {
      "text/plain": [
       "([<matplotlib.patches.Wedge at 0x1204c1668>,\n",
       "  <matplotlib.patches.Wedge at 0x1204c1fd0>],\n",
       " [Text(0.8226203305813468, 0.7302710398983627, 'mulheres'),\n",
       "  Text(-0.8226203647678005, -0.7302710013887248, 'homens')],\n",
       " [Text(0.44870199849891634, 0.3983296581263796, '23.1%'),\n",
       "  Text(-0.448702017146073, -0.3983296371211226, '76.9%')])"
      ]
     },
     "execution_count": 14,
     "metadata": {},
     "output_type": "execute_result"
    },
    {
     "data": {
      "image/png": "[encoded data removed]",
      "text/plain": [
       "<Figure size 432x288 with 1 Axes>"
      ]
     },
     "metadata": {},
     "output_type": "display_data"
    }
   ],
   "source": [
    "# Calcular o percentual de casos entre os sexos no mundo\n",
    "\n",
    "homens_mulheres_mundo = df.groupby('sex').suicides_no.sum() / df.groupby('sex').suicides_no.sum().sum()\n",
    "\n",
    "# Plot\n",
    "\n",
    "plt.pie(homens_mulheres_mundo, labels=['mulheres', 'homens'], autopct='%1.1f%%', shadow=True)"
   ]
  },
  {
   "cell_type": "code",
   "execution_count": 15,
   "metadata": {},
   "outputs": [
    {
     "data": {
      "text/html": [
       "<div>\n",
       "<style scoped>\n",
       "    .dataframe tbody tr th:only-of-type {\n",
       "        vertical-align: middle;\n",
       "    }\n",
       "\n",
       "    .dataframe tbody tr th {\n",
       "        vertical-align: top;\n",
       "    }\n",
       "\n",
       "    .dataframe thead th {\n",
       "        text-align: right;\n",
       "    }\n",
       "</style>\n",
       "<table border=\"1\" class=\"dataframe\">\n",
       "  <thead>\n",
       "    <tr style=\"text-align: right;\">\n",
       "      <th></th>\n",
       "      <th>suicides_no</th>\n",
       "    </tr>\n",
       "    <tr>\n",
       "      <th>country</th>\n",
       "      <th></th>\n",
       "    </tr>\n",
       "  </thead>\n",
       "  <tbody>\n",
       "    <tr>\n",
       "      <th>Russian Federation</th>\n",
       "      <td>1209742</td>\n",
       "    </tr>\n",
       "    <tr>\n",
       "      <th>United States</th>\n",
       "      <td>1034013</td>\n",
       "    </tr>\n",
       "    <tr>\n",
       "      <th>Japan</th>\n",
       "      <td>806902</td>\n",
       "    </tr>\n",
       "    <tr>\n",
       "      <th>France</th>\n",
       "      <td>329127</td>\n",
       "    </tr>\n",
       "    <tr>\n",
       "      <th>Ukraine</th>\n",
       "      <td>319950</td>\n",
       "    </tr>\n",
       "    <tr>\n",
       "      <th>Germany</th>\n",
       "      <td>291262</td>\n",
       "    </tr>\n",
       "    <tr>\n",
       "      <th>Republic of Korea</th>\n",
       "      <td>261730</td>\n",
       "    </tr>\n",
       "    <tr>\n",
       "      <th>Brazil</th>\n",
       "      <td>226613</td>\n",
       "    </tr>\n",
       "    <tr>\n",
       "      <th>Poland</th>\n",
       "      <td>139098</td>\n",
       "    </tr>\n",
       "    <tr>\n",
       "      <th>United Kingdom</th>\n",
       "      <td>136805</td>\n",
       "    </tr>\n",
       "    <tr>\n",
       "      <th>Italy</th>\n",
       "      <td>132060</td>\n",
       "    </tr>\n",
       "    <tr>\n",
       "      <th>Mexico</th>\n",
       "      <td>111139</td>\n",
       "    </tr>\n",
       "    <tr>\n",
       "      <th>Thailand</th>\n",
       "      <td>110643</td>\n",
       "    </tr>\n",
       "    <tr>\n",
       "      <th>Canada</th>\n",
       "      <td>107561</td>\n",
       "    </tr>\n",
       "    <tr>\n",
       "      <th>Kazakhstan</th>\n",
       "      <td>101546</td>\n",
       "    </tr>\n",
       "    <tr>\n",
       "      <th>Spain</th>\n",
       "      <td>100202</td>\n",
       "    </tr>\n",
       "    <tr>\n",
       "      <th>Argentina</th>\n",
       "      <td>82219</td>\n",
       "    </tr>\n",
       "    <tr>\n",
       "      <th>Hungary</th>\n",
       "      <td>73891</td>\n",
       "    </tr>\n",
       "    <tr>\n",
       "      <th>Romania</th>\n",
       "      <td>72777</td>\n",
       "    </tr>\n",
       "    <tr>\n",
       "      <th>Australia</th>\n",
       "      <td>70111</td>\n",
       "    </tr>\n",
       "    <tr>\n",
       "      <th>Belgium</th>\n",
       "      <td>62761</td>\n",
       "    </tr>\n",
       "    <tr>\n",
       "      <th>Belarus</th>\n",
       "      <td>59892</td>\n",
       "    </tr>\n",
       "    <tr>\n",
       "      <th>Sri Lanka</th>\n",
       "      <td>55641</td>\n",
       "    </tr>\n",
       "    <tr>\n",
       "      <th>Colombia</th>\n",
       "      <td>53080</td>\n",
       "    </tr>\n",
       "    <tr>\n",
       "      <th>Netherlands</th>\n",
       "      <td>50833</td>\n",
       "    </tr>\n",
       "  </tbody>\n",
       "</table>\n",
       "</div>"
      ],
      "text/plain": [
       "                    suicides_no\n",
       "country                        \n",
       "Russian Federation      1209742\n",
       "United States           1034013\n",
       "Japan                    806902\n",
       "France                   329127\n",
       "Ukraine                  319950\n",
       "Germany                  291262\n",
       "Republic of Korea        261730\n",
       "Brazil                   226613\n",
       "Poland                   139098\n",
       "United Kingdom           136805\n",
       "Italy                    132060\n",
       "Mexico                   111139\n",
       "Thailand                 110643\n",
       "Canada                   107561\n",
       "Kazakhstan               101546\n",
       "Spain                    100202\n",
       "Argentina                 82219\n",
       "Hungary                   73891\n",
       "Romania                   72777\n",
       "Australia                 70111\n",
       "Belgium                   62761\n",
       "Belarus                   59892\n",
       "Sri Lanka                 55641\n",
       "Colombia                  53080\n",
       "Netherlands               50833"
      ]
     },
     "execution_count": 15,
     "metadata": {},
     "output_type": "execute_result"
    },
    {
     "data": {
      "image/png": "[encoded data removed]",
      "text/plain": [
       "<Figure size 1152x576 with 1 Axes>"
      ]
     },
     "metadata": {
      "needs_background": "light"
     },
     "output_type": "display_data"
    }
   ],
   "source": [
    "# Agrupa gerando total de casos por país\n",
    "total_mundial = df.groupby('country').suicides_no.sum()\n",
    "\n",
    "# Ordena de forma decrescente por número de casos e filtra o 25 primeiros\n",
    "total_mundial_ordenado = total_mundial.sort_values(ascending=False)[:25]\n",
    "df_tm = total_mundial_ordenado.to_frame()\n",
    "# tabela_mundial = pd.pivot_table(df_tm, values='suicides_no', index=['country'])\n",
    "# tabela_mundial.head()\n",
    "\n",
    "# Plotar \n",
    "total_mundial_ordenado.plot.bar(stacked=True, figsize=(16,8))\n",
    "plt.legend(title='Hanking de paises')\n",
    "df_tm"
   ]
  },
  {
   "cell_type": "code",
   "execution_count": 16,
   "metadata": {},
   "outputs": [
    {
     "data": {
      "text/html": [
       "<div>\n",
       "<style scoped>\n",
       "    .dataframe tbody tr th:only-of-type {\n",
       "        vertical-align: middle;\n",
       "    }\n",
       "\n",
       "    .dataframe tbody tr th {\n",
       "        vertical-align: top;\n",
       "    }\n",
       "\n",
       "    .dataframe thead th {\n",
       "        text-align: right;\n",
       "    }\n",
       "</style>\n",
       "<table border=\"1\" class=\"dataframe\">\n",
       "  <thead>\n",
       "    <tr style=\"text-align: right;\">\n",
       "      <th></th>\n",
       "      <th></th>\n",
       "      <th>suicides_no</th>\n",
       "    </tr>\n",
       "    <tr>\n",
       "      <th>country</th>\n",
       "      <th>age</th>\n",
       "      <th></th>\n",
       "    </tr>\n",
       "  </thead>\n",
       "  <tbody>\n",
       "    <tr>\n",
       "      <th>Russian Federation</th>\n",
       "      <th>35-54 years</th>\n",
       "      <td>479140</td>\n",
       "    </tr>\n",
       "    <tr>\n",
       "      <th>United States</th>\n",
       "      <th>35-54 years</th>\n",
       "      <td>380917</td>\n",
       "    </tr>\n",
       "    <tr>\n",
       "      <th rowspan=\"2\" valign=\"top\">Japan</th>\n",
       "      <th>35-54 years</th>\n",
       "      <td>278679</td>\n",
       "    </tr>\n",
       "    <tr>\n",
       "      <th>55-74 years</th>\n",
       "      <td>272705</td>\n",
       "    </tr>\n",
       "    <tr>\n",
       "      <th rowspan=\"2\" valign=\"top\">Russian Federation</th>\n",
       "      <th>55-74 years</th>\n",
       "      <td>267753</td>\n",
       "    </tr>\n",
       "    <tr>\n",
       "      <th>25-34 years</th>\n",
       "      <td>231187</td>\n",
       "    </tr>\n",
       "    <tr>\n",
       "      <th rowspan=\"2\" valign=\"top\">United States</th>\n",
       "      <th>55-74 years</th>\n",
       "      <td>224770</td>\n",
       "    </tr>\n",
       "    <tr>\n",
       "      <th>25-34 years</th>\n",
       "      <td>182047</td>\n",
       "    </tr>\n",
       "    <tr>\n",
       "      <th>Russian Federation</th>\n",
       "      <th>15-24 years</th>\n",
       "      <td>148611</td>\n",
       "    </tr>\n",
       "    <tr>\n",
       "      <th>United States</th>\n",
       "      <th>15-24 years</th>\n",
       "      <td>141679</td>\n",
       "    </tr>\n",
       "    <tr>\n",
       "      <th>Ukraine</th>\n",
       "      <th>35-54 years</th>\n",
       "      <td>124721</td>\n",
       "    </tr>\n",
       "    <tr>\n",
       "      <th>France</th>\n",
       "      <th>35-54 years</th>\n",
       "      <td>123510</td>\n",
       "    </tr>\n",
       "    <tr>\n",
       "      <th>Japan</th>\n",
       "      <th>75+ years</th>\n",
       "      <td>106571</td>\n",
       "    </tr>\n",
       "    <tr>\n",
       "      <th>Germany</th>\n",
       "      <th>35-54 years</th>\n",
       "      <td>97833</td>\n",
       "    </tr>\n",
       "    <tr>\n",
       "      <th>Republic of Korea</th>\n",
       "      <th>35-54 years</th>\n",
       "      <td>96292</td>\n",
       "    </tr>\n",
       "    <tr>\n",
       "      <th>United States</th>\n",
       "      <th>75+ years</th>\n",
       "      <td>95677</td>\n",
       "    </tr>\n",
       "    <tr>\n",
       "      <th>Japan</th>\n",
       "      <th>25-34 years</th>\n",
       "      <td>94529</td>\n",
       "    </tr>\n",
       "    <tr>\n",
       "      <th>Ukraine</th>\n",
       "      <th>55-74 years</th>\n",
       "      <td>90385</td>\n",
       "    </tr>\n",
       "    <tr>\n",
       "      <th>Germany</th>\n",
       "      <th>55-74 years</th>\n",
       "      <td>89191</td>\n",
       "    </tr>\n",
       "    <tr>\n",
       "      <th>France</th>\n",
       "      <th>55-74 years</th>\n",
       "      <td>86509</td>\n",
       "    </tr>\n",
       "    <tr>\n",
       "      <th>Brazil</th>\n",
       "      <th>35-54 years</th>\n",
       "      <td>79860</td>\n",
       "    </tr>\n",
       "    <tr>\n",
       "      <th>Russian Federation</th>\n",
       "      <th>75+ years</th>\n",
       "      <td>74211</td>\n",
       "    </tr>\n",
       "    <tr>\n",
       "      <th>Republic of Korea</th>\n",
       "      <th>55-74 years</th>\n",
       "      <td>68574</td>\n",
       "    </tr>\n",
       "    <tr>\n",
       "      <th>Poland</th>\n",
       "      <th>35-54 years</th>\n",
       "      <td>60061</td>\n",
       "    </tr>\n",
       "    <tr>\n",
       "      <th>France</th>\n",
       "      <th>75+ years</th>\n",
       "      <td>55872</td>\n",
       "    </tr>\n",
       "  </tbody>\n",
       "</table>\n",
       "</div>"
      ],
      "text/plain": [
       "                                suicides_no\n",
       "country            age                     \n",
       "Russian Federation 35-54 years       479140\n",
       "United States      35-54 years       380917\n",
       "Japan              35-54 years       278679\n",
       "                   55-74 years       272705\n",
       "Russian Federation 55-74 years       267753\n",
       "                   25-34 years       231187\n",
       "United States      55-74 years       224770\n",
       "                   25-34 years       182047\n",
       "Russian Federation 15-24 years       148611\n",
       "United States      15-24 years       141679\n",
       "Ukraine            35-54 years       124721\n",
       "France             35-54 years       123510\n",
       "Japan              75+ years         106571\n",
       "Germany            35-54 years        97833\n",
       "Republic of Korea  35-54 years        96292\n",
       "United States      75+ years          95677\n",
       "Japan              25-34 years        94529\n",
       "Ukraine            55-74 years        90385\n",
       "Germany            55-74 years        89191\n",
       "France             55-74 years        86509\n",
       "Brazil             35-54 years        79860\n",
       "Russian Federation 75+ years          74211\n",
       "Republic of Korea  55-74 years        68574\n",
       "Poland             35-54 years        60061\n",
       "France             75+ years          55872"
      ]
     },
     "execution_count": 16,
     "metadata": {},
     "output_type": "execute_result"
    },
    {
     "data": {
      "image/png": "[encoded data removed]",
      "text/plain": [
       "<Figure size 1152x576 with 1 Axes>"
      ]
     },
     "metadata": {
      "needs_background": "light"
     },
     "output_type": "display_data"
    }
   ],
   "source": [
    "# Agrupa e gera o total por pais e faixa etaria\n",
    "total_mundial_idade = df.groupby(['country', 'age']).suicides_no.sum()\n",
    "df_tmi = total_mundial_idade.to_frame()\n",
    "\n",
    "# Ordena de forma decrescente\n",
    "df_tmi = df_tmi.sort_values(ascending=False, by='suicides_no')\n",
    "\n",
    "# Limita aos 25 primeiros\n",
    "df_tmi = df_tmi[:25]\n",
    "\n",
    "\n",
    "# Plotar \n",
    "df_tmi.plot.bar(stacked=True, figsize=(16,8))\n",
    "plt.legend(title='Faixa etária')\n",
    "df_tmi\n"
   ]
  },
  {
   "cell_type": "code",
   "execution_count": null,
   "metadata": {},
   "outputs": [],
   "source": []
  },
  {
   "cell_type": "code",
   "execution_count": null,
   "metadata": {},
   "outputs": [],
   "source": []
  }
 ],
 "metadata": {
  "kernelspec": {
   "display_name": "Python 3",
   "language": "python",
   "name": "python3"
  },
  "language_info": {
   "codemirror_mode": {
    "name": "ipython",
    "version": 3
   },
   "file_extension": ".py",
   "mimetype": "text/x-python",
   "name": "python",
   "nbconvert_exporter": "python",
   "pygments_lexer": "ipython3",
   "version": "3.7.3"
  }
 },
 "nbformat": 4,
 "nbformat_minor": 2
}
